{
  "nbformat": 4,
  "nbformat_minor": 0,
  "metadata": {
    "colab": {
      "provenance": [],
      "gpuType": "T4",
      "authorship_tag": "ABX9TyOgseG0tN55vsw9exFahAmI",
      "include_colab_link": true
    },
    "kernelspec": {
      "name": "python3",
      "display_name": "Python 3"
    },
    "language_info": {
      "name": "python"
    },
    "accelerator": "GPU"
  },
  "cells": [
    {
      "cell_type": "markdown",
      "metadata": {
        "id": "view-in-github",
        "colab_type": "text"
      },
      "source": [
        "<a href=\"https://colab.research.google.com/github/NitinGautam05/Plant-leaf-disease-identification/blob/main/VGG16.ipynb\" target=\"_parent\"><img src=\"https://colab.research.google.com/assets/colab-badge.svg\" alt=\"Open In Colab\"/></a>"
      ]
    },
    {
      "cell_type": "code",
      "source": [
        "import requests\n",
        "import zipfile\n",
        "import io\n",
        "\n",
        "# URL of the ZIP file\n",
        "url = \"https://data.mendeley.com/public-files/datasets/tywbtsjrjv/files/d5652a28-c1d8-4b76-97f3-72fb80f94efc/file_downloaded\"\n",
        "\n",
        "# Send an HTTP GET request to the URL\n",
        "response = requests.get(url)\n",
        "\n",
        "# Check if the request was successful (status code 200)\n",
        "if response.status_code == 200:\n",
        "    # Open the ZIP file\n",
        "    with zipfile.ZipFile(io.BytesIO(response.content), \"r\") as zip_ref:\n",
        "        # Extract all the contents to a directory\n",
        "        zip_ref.extractall(\"\")\n",
        "    print(\"Extraction successful.\")\n",
        "else:\n",
        "    print(\"Failed to download the ZIP file.\")"
      ],
      "metadata": {
        "id": "SRgaQLEY8Az9",
        "colab": {
          "base_uri": "https://localhost:8080/"
        },
        "outputId": "7153b7f7-36d4-46d2-a92a-f41119cb043d"
      },
      "execution_count": null,
      "outputs": [
        {
          "output_type": "stream",
          "name": "stdout",
          "text": [
            "Extraction successful.\n"
          ]
        }
      ]
    },
    {
      "cell_type": "code",
      "execution_count": null,
      "metadata": {
        "colab": {
          "base_uri": "https://localhost:8080/"
        },
        "id": "vTOrAW9E7QmG",
        "outputId": "dc3b210c-3746-48ae-b6be-c3328dc238fc"
      },
      "outputs": [
        {
          "output_type": "stream",
          "name": "stdout",
          "text": [
            "Found 44371 images belonging to 39 classes.\n",
            "Found 11077 images belonging to 39 classes.\n",
            "Found 55448 images belonging to 39 classes.\n",
            "Number of training samples: 44371\n",
            "Number of validation samples: 11077\n",
            "Number of test samples: 55448\n"
          ]
        }
      ],
      "source": [
        "import os\n",
        "import numpy as np\n",
        "import tensorflow as tf\n",
        "from tensorflow.keras import layers, models\n",
        "from tensorflow.keras.preprocessing.image import ImageDataGenerator\n",
        "\n",
        "data_dir = 'Plant_leave_diseases_dataset_without_augmentation'\n",
        "\n",
        "# Define image dimensions and batch size\n",
        "img_width, img_height = 256, 256\n",
        "batch_size = 32\n",
        "\n",
        "# Use ImageDataGenerator to load and preprocess images\n",
        "train_datagen = ImageDataGenerator(rescale=1./255, validation_split=0.2)\n",
        "\n",
        "train_generator = train_datagen.flow_from_directory(\n",
        "    data_dir,\n",
        "    target_size=(img_width, img_height),\n",
        "    batch_size=batch_size,\n",
        "    class_mode='categorical',\n",
        "    subset='training'\n",
        ")\n",
        "\n",
        "validation_generator = train_datagen.flow_from_directory(\n",
        "    data_dir,\n",
        "    target_size=(img_width, img_height),\n",
        "    batch_size=batch_size,\n",
        "    class_mode='categorical',\n",
        "    subset='validation'\n",
        ")\n",
        "\n",
        "test_generator = train_datagen.flow_from_directory(\n",
        "    data_dir,\n",
        "    target_size=(img_width, img_height),\n",
        "    batch_size=batch_size,\n",
        "    class_mode='categorical',\n",
        "    shuffle=False\n",
        ")\n",
        "\n",
        "print(\"Number of training samples:\", train_generator.samples)\n",
        "print(\"Number of validation samples:\", validation_generator.samples)\n",
        "print(\"Number of test samples:\", test_generator.samples)\n"
      ]
    },
    {
      "cell_type": "code",
      "source": [
        "import os\n",
        "import numpy as np\n",
        "import tensorflow as tf\n",
        "from tensorflow.keras import layers, models\n",
        "from tensorflow.keras.preprocessing.image import ImageDataGenerator\n",
        "from tensorflow.keras.applications import VGG16\n",
        "\n",
        "# Load the pre-trained VGG16 model\n",
        "vgg_base = VGG16(weights='imagenet', include_top=False, input_shape=(img_width, img_height, 3))\n",
        "\n",
        "# Freeze the convolutional base\n",
        "vgg_base.trainable = False\n"
      ],
      "metadata": {
        "colab": {
          "base_uri": "https://localhost:8080/"
        },
        "id": "bbcEwfnz_ccW",
        "outputId": "90f752c2-33f8-47a4-ea96-0b41d29370af"
      },
      "execution_count": null,
      "outputs": [
        {
          "output_type": "stream",
          "name": "stdout",
          "text": [
            "Downloading data from https://storage.googleapis.com/tensorflow/keras-applications/vgg16/vgg16_weights_tf_dim_ordering_tf_kernels_notop.h5\n",
            "58889256/58889256 [==============================] - 0s 0us/step\n"
          ]
        }
      ]
    },
    {
      "cell_type": "code",
      "source": [
        "\n",
        "# Add custom classification layers on top\n",
        "model = models.Sequential([\n",
        "    vgg_base,\n",
        "    layers.Flatten(),\n",
        "    layers.Dense(256, activation='relu'),\n",
        "    layers.Dropout(0.5),\n",
        "    layers.Dense(train_generator.num_classes, activation='softmax')\n",
        "])\n",
        "\n",
        "# Compile the model\n",
        "model.compile(optimizer='adam',\n",
        "              loss='categorical_crossentropy',\n",
        "              metrics=['accuracy'])\n",
        "\n"
      ],
      "metadata": {
        "id": "OEJ0jKJH_uf9"
      },
      "execution_count": null,
      "outputs": []
    },
    {
      "cell_type": "code",
      "source": [
        "# Train the model\n",
        "history = model.fit(\n",
        "    train_generator,\n",
        "    steps_per_epoch=train_generator.samples // batch_size,\n",
        "    epochs=10,\n",
        "    validation_data=validation_generator,\n",
        "    validation_steps=validation_generator.samples // batch_size\n",
        ")\n"
      ],
      "metadata": {
        "id": "u0kv183f_zps",
        "colab": {
          "base_uri": "https://localhost:8080/"
        },
        "outputId": "b0d03ce5-ef8a-42f2-803e-7a3abb2ca260"
      },
      "execution_count": null,
      "outputs": [
        {
          "output_type": "stream",
          "name": "stdout",
          "text": [
            "Epoch 1/10\n",
            "1386/1386 [==============================] - 316s 221ms/step - loss: 1.5706 - accuracy: 0.5273 - val_loss: 0.5669 - val_accuracy: 0.8298\n",
            "Epoch 2/10\n",
            "1386/1386 [==============================] - 282s 203ms/step - loss: 1.0866 - accuracy: 0.6347 - val_loss: 0.4233 - val_accuracy: 0.8671\n",
            "Epoch 3/10\n",
            "1386/1386 [==============================] - 281s 203ms/step - loss: 0.9777 - accuracy: 0.6631 - val_loss: 0.4463 - val_accuracy: 0.8531\n",
            "Epoch 4/10\n",
            "1386/1386 [==============================] - 304s 219ms/step - loss: 0.9206 - accuracy: 0.6782 - val_loss: 0.3659 - val_accuracy: 0.8945\n",
            "Epoch 5/10\n",
            "1386/1386 [==============================] - 304s 219ms/step - loss: 0.8808 - accuracy: 0.6918 - val_loss: 0.3576 - val_accuracy: 0.8861\n",
            "Epoch 6/10\n",
            "1386/1386 [==============================] - 279s 201ms/step - loss: 0.8855 - accuracy: 0.6925 - val_loss: 0.3577 - val_accuracy: 0.8894\n",
            "Epoch 7/10\n",
            "1386/1386 [==============================] - 303s 219ms/step - loss: 0.8408 - accuracy: 0.7051 - val_loss: 0.3289 - val_accuracy: 0.8922\n",
            "Epoch 8/10\n",
            "1386/1386 [==============================] - 278s 200ms/step - loss: 0.7887 - accuracy: 0.7203 - val_loss: 0.3296 - val_accuracy: 0.8949\n",
            "Epoch 9/10\n",
            "1386/1386 [==============================] - 307s 222ms/step - loss: 0.7563 - accuracy: 0.7297 - val_loss: 0.3025 - val_accuracy: 0.9077\n",
            "Epoch 10/10\n",
            "1386/1386 [==============================] - 305s 220ms/step - loss: 0.7507 - accuracy: 0.7308 - val_loss: 0.3152 - val_accuracy: 0.9083\n"
          ]
        }
      ]
    },
    {
      "cell_type": "code",
      "source": [
        "\n",
        "# Evaluate the model on the test set\n",
        "test_loss, test_acc = model.evaluate(test_generator, steps=test_generator.samples // batch_size)\n",
        "print(\"Test accuracy:\", test_acc)\n",
        "\n",
        "# Predict labels for the test set\n",
        "test_pred = model.predict(test_generator, steps=test_generator.samples // batch_size)\n",
        "test_labels = np.argmax(test_generator.labels, axis=1)\n",
        "test_pred_labels = np.argmax(test_pred, axis=1)\n",
        "\n",
        "# Calculate precision, recall, and F1-score\n",
        "print(classification_report(test_labels, test_pred_labels))\n"
      ],
      "metadata": {
        "id": "whglWwhj_2uc",
        "colab": {
          "base_uri": "https://localhost:8080/"
        },
        "outputId": "deb9be4b-a760-45f1-e0ef-26f15c0a0681"
      },
      "execution_count": null,
      "outputs": [
        {
          "output_type": "stream",
          "name": "stdout",
          "text": [
            "1732/1732 [==============================] - 274s 158ms/step - loss: 0.2113 - accuracy: 0.9359\n",
            "Test accuracy: 0.9358761310577393\n"
          ]
        }
      ]
    }
  ]
}